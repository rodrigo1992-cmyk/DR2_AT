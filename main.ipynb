{
 "cells": [
  {
   "cell_type": "markdown",
   "metadata": {},
   "source": [
    "# **Rodrigo_Mesquita_DR2_AT**\n",
    "## **Coleta de Dados com Python via APIs e WebScraping [24E3_2]**"
   ]
  },
  {
   "cell_type": "markdown",
   "metadata": {},
   "source": [
    "### Notebook disponível em: https://github.com/rodrigo1992-cmyk/DR2_AT"
   ]
  },
  {
   "cell_type": "markdown",
   "metadata": {},
   "source": [
    "# Docs e Regex"
   ]
  },
  {
   "cell_type": "markdown",
   "metadata": {},
   "source": [
    "\n",
    "## Exercício 1: \n",
    "Baixe seu perfil no Linkedin em PDF e utilize o PyPDF2 para construir uma função que retorne a string do texto completo do documento.\n"
   ]
  },
  {
   "cell_type": "code",
   "execution_count": 112,
   "metadata": {},
   "outputs": [
    {
     "name": "stdout",
     "output_type": "stream",
     "text": [
      "Requirement already satisfied: PyPDF2 in /home/codespace/.python/current/lib/python3.12/site-packages (3.0.1)\n",
      "Note: you may need to restart the kernel to use updated packages.\n"
     ]
    }
   ],
   "source": [
    "%pip install -U PyPDF2"
   ]
  },
  {
   "cell_type": "code",
   "execution_count": 113,
   "metadata": {},
   "outputs": [
    {
     "name": "stdout",
     "output_type": "stream",
     "text": [
      "   \n",
      "Contato\n",
      "Rio de Janeiro, RJ - Brasil\n",
      "(21) 98113-5927  (Mobile)\n",
      "rodrigomesquita0@gmail.com\n",
      "www.linkedin.com/in/rodrigo-\n",
      "mesquita-6120b193  (LinkedIn)\n",
      "Principais competências\n",
      "Inglês\n",
      "Scikit-Learn\n",
      "SciPy\n",
      "Languages\n",
      "Inglês  (Professional Working)Rodrigo Mesquita\n",
      "Tech Lead | Espec. Sr. em Analytics & BI | Cientista de Dados | MBA\n",
      "Eng. de Softwares | MBA Gestão Empresarial\n",
      "Rio de Janeiro, Rio de Janeiro, Brasil\n",
      "Resumo\n",
      "Profissional de Dados focado em empresas de tecnologia e\n",
      "consultoria, com sólida experiência em gerenciamento de projetos\n",
      "de Business Intelligence e automação de processos analíticos.\n",
      "Lider de uma célula de análise de dados avançadas na TIM\n",
      "Brasil, buscando a democratização do acesso a dados através\n",
      "da capacitação e orientação das áreas de negócio, auxiliando a\n",
      "empresa a construir uma forte cultura data-driven.\n",
      "Cursando segunda graduação, em Data Science pelo Instituto\n",
      "Infnet, além de possuir MBA em Engenharia de Software pela UFRJ,\n",
      "MBA em Gestão Empresarial pela Universidade Cândido Mendes,\n",
      "especialização em Design de Interação pela Faculdade Senac-RJ e\n",
      "graduação em Design pela Universidade do Grande Rio.\n",
      "Experiência\n",
      "TIM Brasil\n",
      "6 anos 10 meses\n",
      "Especialista Sr em Analytics e BI [Tech Lead]\n",
      "agosto de 2023 - Present  (1 ano 2 meses)\n",
      "Especialista em Analytics e BI\n",
      "setembro de 2020 - agosto de 2023  (3 anos)\n",
      "Rio de Janeiro, Brasil\n",
      "》Start-up de um C4E, responsável por promover a evolução dos processos\n",
      "informacionais dentro da diretoria de engenharia, democratizando a acesso\n",
      "a dados de todo CTO e atuando como facilitador em projetos de dados, BI e\n",
      "Machine Learning.\n",
      "》Gestão de equipes de Analytics e BI, com adequação dos times à utilização\n",
      "do framework Scrum. Treinamento e orientação contínua de stakeholders\n",
      "e pontos focais, de forma a promover a democratização e uso sustentável\n",
      "  Page 1 of 4\n",
      "   \n",
      "dos dados e ferramentas disponíveis, buscando a evolução para uma cultura\n",
      "Data-Driven.\n",
      "》Construção de Dashboards em Power BI para suporte aos comitês C-level.\n",
      "Busca contínua por insights oriundos do tratamento ou cruzamento das bases\n",
      "de dados dos sistemas, a fim de implementar novos KPI's de performance\n",
      "operacional e financeira, ou otimizar a obtenção dos KPIs já existentes.\n",
      "》Construção e governança de pipelines de dados, de forma a garantir\n",
      "a consistência dos processos de coleta, manipulação e armazenamento,\n",
      "objetivando mitigar os silos de informação existentes na companhia.\n",
      "Consultor sênior\n",
      "maio de 2019 - agosto de 2020  (1 ano 4 meses)\n",
      "Rio de Janeiro, Brasil\n",
      "》Responsável pela gestão de duas fábricas de softwares terceirizadas\n",
      "que realizavam a manutenção de sistemas de controle financeiro e Supply\n",
      "Chain. De forma complementar, também atuando na criação de soluções\n",
      "analíticas de Lifecycle de contratos, gestão financeira e controle de estoque\n",
      "de materiais, utilizando Sharepoint, Knime, SGBD Oracle e Microsoft Power\n",
      "BI.\n",
      "Consultor de gestão de projetos\n",
      "dezembro de 2017 - abril de 2019  (1 ano 5 meses)\n",
      "Rio de Janeiro, Brasil\n",
      "》Responsável pela gestão de duas fábricas de softwares terceirizadas\n",
      "que realizavam a manutenção de sistemas de controle financeiro e Supply\n",
      "Chain. De forma complementar, também atuando na criação de soluções\n",
      "analíticas de Lifecycle de contratos, gestão financeira e controle de estoque\n",
      "de materiais, utilizando Sharepoint, Knime, SGBD Oracle e Microsoft Power\n",
      "BI.\n",
      "Gluck Serviços e Comercio de Informática \n",
      "Consultor de gestão de projetos\n",
      "março de 2016 - maio de 2017  (1 ano 3 meses)\n",
      "Rio de Janeiro e Região, Brasil\n",
      "》Atuação como Product Owner, realizando a mediação de demandas entre\n",
      "os clientes e a fábrica de softwares, assim como a escrita das user stories,\n",
      "priorização de backlog, acompanhamento do desenvolvimento, gestão de\n",
      "prazos e a validação das entregas.\n",
      "  Page 2 of 4\n",
      "   \n",
      "everis\n",
      "Analista de suporte a projetos\n",
      "junho de 2014 - janeiro de 2015  (8 meses)\n",
      "Rio de Janeiro e Região, Brasil\n",
      "》Prestação de serviços de consultoria com foco na melhoria contínua de\n",
      "sistemas, atuando na criação de visões analíticas, Data Quality e integração\n",
      "de bases de dados. Interação com a fábrica de softwares para criação de\n",
      "demandas para melhoria de usabilidade, otimização de processos, correções\n",
      "nas bases de dados e criação de novas consultas (Queries).\n",
      "Between do Brasil\n",
      "Analista de suporte a projetos\n",
      "junho de 2012 - junho de 2014  (2 anos 1 mês)\n",
      "》Prestação de serviços de consultoria com foco na especificação de\n",
      "requisitos para desenvolvimento de sistemas WFM, utilizados na gestão de\n",
      "processos e contratos terceirizados. Atuação como Product Owner, realizando\n",
      "a interação entre o contratante e a empresa de desenvolvimento de softwares.\n",
      "GVT\n",
      "Técnico de telecomunicações\n",
      "abril de 2011 - junho de 2012  (1 ano 3 meses)\n",
      "》Atuação no start-up da GVT no estado Rio de Janeiro, prestando suporte\n",
      "técnico e administrativo.\n",
      "ICATEL\n",
      "Auxiliar de Cadista\n",
      "janeiro de 2011 - abril de 2011  (4 meses)\n",
      "Rio de Janeiro e Região, Brasil\n",
      "》Prestação de suporte técnico e administrativo.\n",
      "Formação acadêmica\n",
      "Universidade Federal do Rio de Janeiro\n",
      "Master of Business Administration - MBA, Engenharia de\n",
      "Software  · (2020 - 2022)\n",
      "Universidade Candido Mendes\n",
      "Master of Business Administration - MBA, Economia e Gestão\n",
      "Empresarial  · (2019 - 2020)\n",
      "  Page 3 of 4\n",
      "   \n",
      "Senac RJ\n",
      "Pós Graduação, Design de Interação  · (2016 - 2018)\n",
      "Universidade Unigranrio | Afya\n",
      "Design Gráfico   · (2014 - 2016)\n",
      "Instituto Infnet\n",
      "Curso Superior de Tecnologia (CST), Data Science  · (janeiro de\n",
      "2023 - dezembro de 2025)\n",
      "  Page 4 of 4\n",
      "\n"
     ]
    }
   ],
   "source": [
    "import PyPDF2 as pdf\n",
    "\n",
    "def import_pdf(pdf_path):\n",
    "    with open (pdf_path, 'rb') as file:\n",
    "        content = pdf.PdfReader(file)\n",
    "\n",
    "        text = ''\n",
    "\n",
    "        for page in content.pages:\n",
    "            text += page.extract_text() + \"\\n\"\n",
    "        \n",
    "    return text\n",
    "\n",
    "pdf_path = 'data/linkedin_profile.pdf'\n",
    "\n",
    "text = import_pdf(pdf_path)\n",
    "print(text)"
   ]
  },
  {
   "cell_type": "markdown",
   "metadata": {
    "vscode": {
     "languageId": "plaintext"
    }
   },
   "source": [
    "## Exercício 2:\n",
    "Utilize Regex (módulo `re` nativo do Python) para criar uma função que, a partir do texto extraído, retorne um dicionário com as seguintes informações: \n",
    "* Seu número de telefone;\n",
    "* Seu endereço de email; e \n",
    "* O link do seu perfil no Linkedin."
   ]
  },
  {
   "cell_type": "code",
   "execution_count": 114,
   "metadata": {},
   "outputs": [
    {
     "data": {
      "text/plain": [
       "{'telefone': '(21) 98113-5927',\n",
       " 'email': 'rodrigomesquita0@gmail.com',\n",
       " 'linkedin': 'www.linkedin.com/in/rodrigo-mesquita-6120b193'}"
      ]
     },
     "execution_count": 114,
     "metadata": {},
     "output_type": "execute_result"
    }
   ],
   "source": [
    "import re\n",
    "\n",
    "def linkedin_reg(text):\n",
    "    dic={}\n",
    "\n",
    "    telefone = re.search(r'\\([0-9]+\\)\\s[0-9]*-[0-9]*\\s+\\(Mobile\\)',text).group()\n",
    "    telefone = re.sub(r'\\s+\\(Mobile\\)', '', telefone)\n",
    "\n",
    "    email = re.search(r'\\w+(\\.)?\\w+@\\w+',text).group() + '.com'\n",
    "    \n",
    "    linkedin = re.search(r'www\\.linkedin\\.com\\S+\\n\\S+',text).group()\n",
    "    linkedin = linkedin.replace('\\n','')\n",
    "\n",
    "    dic = {'telefone':telefone, 'email':email, 'linkedin':linkedin}\n",
    "\n",
    "    return dic\n",
    "\n",
    "dic1 = linkedin_reg(text)\n",
    "dic1"
   ]
  },
  {
   "cell_type": "markdown",
   "metadata": {},
   "source": [
    "## Exercício 3:\n",
    "\n",
    "Aplique as funções geradas nas questões 1 e 2 para fazer o mesmo com o PDF em anexo (perfil do professor) e crie um CSV com as informações extraídas (colunas: nome, telefone, email e perfil) utilizando o módulo `csv` nativo do Python. Obs.: ao final os padrões utilizados no Regex devem abarcar os conteúdos dos dois PDFs."
   ]
  },
  {
   "cell_type": "code",
   "execution_count": 115,
   "metadata": {},
   "outputs": [
    {
     "data": {
      "text/plain": [
       "{'telefone': '(51) 98128-0967',\n",
       " 'email': 'viniciusbranco.ufrgs@gmail.com',\n",
       " 'linkedin': 'www.linkedin.com/in/vinicius-br-sc(LinkedIn)'}"
      ]
     },
     "execution_count": 115,
     "metadata": {},
     "output_type": "execute_result"
    }
   ],
   "source": [
    "import csv\n",
    "\n",
    "pdf_path = 'data/linkedin_professor.pdf'\n",
    "\n",
    "text = import_pdf(pdf_path)\n",
    "dic2 = linkedin_reg(text)\n",
    "dic2"
   ]
  },
  {
   "cell_type": "code",
   "execution_count": 116,
   "metadata": {},
   "outputs": [],
   "source": [
    "\n",
    "with open('data/linkedin.csv', 'w', newline='') as file:\n",
    "    writer = csv.writer(file)\n",
    "    writer.writerow(dic1.keys())\n",
    "    writer.writerow(dic1.values())\n",
    "    writer.writerow(dic2.values())\n"
   ]
  },
  {
   "cell_type": "markdown",
   "metadata": {},
   "source": [
    "# APIs\n",
    "\n",
    "## Exercício 4:\n",
    "\n",
    "Explore o “playground” da API do SimilarWeb encontrada no RapidAPI (https://rapidapi.com/Glavier/api/similarweb12/playground/) e inscreva-se no plano gratuito, então crie um código para obter os dados dos 10 primeiros sites listados em “top-websites”, salvando-os em um dataframe do Pandas e enfim em um arquivo CSV usando o próprio Pandas."
   ]
  },
  {
   "cell_type": "code",
   "execution_count": 123,
   "metadata": {},
   "outputs": [],
   "source": [
    "import requests\n",
    "import pandas as pd\n",
    "\n",
    "url = \"https://similarweb12.p.rapidapi.com/v3/top-websites/\"\n",
    "\n",
    "headers = {\n",
    "    \"x-rapidapi-key\": \"3d548dfb94msh2983fe233fc5869p15fdf5jsn4ff69403470e\",\n",
    "    \"x-rapidapi-host\": \"similarweb12.p.rapidapi.com\"\n",
    "}\n",
    "\n",
    "response = requests.get(url, headers=headers)\n",
    "\n",
    "dados = response.json()"
   ]
  },
  {
   "cell_type": "code",
   "execution_count": 132,
   "metadata": {},
   "outputs": [],
   "source": [
    "df = pd.DataFrame(dados['sites']).head(10)\n",
    "df.to_csv('data/top_websites.csv', index=False)"
   ]
  },
  {
   "cell_type": "markdown",
   "metadata": {},
   "source": [
    "# XPath\n",
    "\n",
    "## Exercício 5:\n",
    "\n",
    "Utilize o arquivo XML em anexo e a biblioteca `lxml` com caminhos relativos de XPath para:\n",
    "\n",
    "* Selecionar os nomes de todos *estudantes* que estejam no 2º ano ou acima dele;\n",
    "* Selecionar o nome do *professor* de Estruturas de Dados (course: \"Data Structures\");\n",
    "* Selecionar os títulos de todos os *cursos* ofertados pelo departamento de Ciência da Computação (department: Computer Science);\n",
    "* Selecionar os nomes de todos os *departamentos* que sejam pertencentes à Escola de Engenharia (college: Engineering)."
   ]
  },
  {
   "cell_type": "code",
   "execution_count": 118,
   "metadata": {},
   "outputs": [],
   "source": [
    "from lxml import etree\n",
    "\n",
    "tree = etree.parse(r'data/AT.xml', parser=etree.XMLParser())\n",
    "root = tree.getroot()"
   ]
  },
  {
   "cell_type": "code",
   "execution_count": 119,
   "metadata": {},
   "outputs": [
    {
     "data": {
      "text/plain": [
       "['Alice', 'Bob', 'Charlie', 'David', 'Grace', 'Henry', 'Isla', 'Jack']"
      ]
     },
     "execution_count": 119,
     "metadata": {},
     "output_type": "execute_result"
    }
   ],
   "source": [
    "#Estudantes do 2° ano ou superior\n",
    "estudantes = root.xpath('//student[@year >= 2]/text()')\n",
    "estudantes"
   ]
  },
  {
   "cell_type": "code",
   "execution_count": 120,
   "metadata": {},
   "outputs": [
    {
     "data": {
      "text/plain": [
       "['Dr. Emily Clark']"
      ]
     },
     "execution_count": 120,
     "metadata": {},
     "output_type": "execute_result"
    }
   ],
   "source": [
    "#nome do professor de Estruturas de Dados\n",
    "professores = root.xpath('//department/course[@code=\"CS202\"]/professor/text()')\n",
    "professores"
   ]
  },
  {
   "cell_type": "code",
   "execution_count": 121,
   "metadata": {},
   "outputs": [
    {
     "data": {
      "text/plain": [
       "['Introduction to Computer Science', 'Data Structures']"
      ]
     },
     "execution_count": 121,
     "metadata": {},
     "output_type": "execute_result"
    }
   ],
   "source": [
    "#cursos ofertados pelo departamento de Ciência da Computação\n",
    "cursos = root.xpath('//department[@name=\"Computer Science\"]/course/title/text()')\n",
    "cursos"
   ]
  },
  {
   "cell_type": "code",
   "execution_count": 122,
   "metadata": {},
   "outputs": [
    {
     "data": {
      "text/plain": [
       "['Computer Science', 'Mechanical Engineering']"
      ]
     },
     "execution_count": 122,
     "metadata": {},
     "output_type": "execute_result"
    }
   ],
   "source": [
    "#departamentos pertencentes à Escola de Engenharia\n",
    "departamentos = root.xpath('//college[@name=\"Engineering\"]/department/@name')\n",
    "departamentos"
   ]
  },
  {
   "cell_type": "markdown",
   "metadata": {},
   "source": [
    "# CSS\n",
    "\n",
    "## Exercício 6:\n",
    "\n",
    "Utilize o arquivo XML em anexo e a biblioteca `lxml` com seletores de CSS para:\n",
    "\n",
    "* Selecionar os títulos de todos os cursos cujos professores possuem estabilidade (tenure);\n",
    "* Selecionar os títulos de todos os cursos que possuem horário de início pela manhã (AM). \n",
    "  * Dica: cuidado com nomes antigos de pseudo-classes, caso algum não funcione tente o nome antigo."
   ]
  },
  {
   "cell_type": "code",
   "execution_count": null,
   "metadata": {},
   "outputs": [],
   "source": [
    "#%pip install cssselect==0.3"
   ]
  },
  {
   "cell_type": "code",
   "execution_count": 153,
   "metadata": {},
   "outputs": [],
   "source": [
    "from lxml import etree\n",
    "\n",
    "tree = etree.parse(r'data/AT.xml', parser=etree.XMLParser())\n",
    "root = tree.getroot()"
   ]
  },
  {
   "cell_type": "code",
   "execution_count": 184,
   "metadata": {},
   "outputs": [
    {
     "name": "stdout",
     "output_type": "stream",
     "text": [
      "Introduction to Computer Science\n",
      "Thermodynamics\n",
      "World History\n"
     ]
    }
   ],
   "source": [
    "#cursos cujos professores possuem estabilidade\n",
    "titulos_tenure = root.cssselect('professor[tenure=\"true\"] ~ title')\n",
    "for i in titulos_tenure:\n",
    "    print(i.text)"
   ]
  },
  {
   "cell_type": "code",
   "execution_count": 219,
   "metadata": {},
   "outputs": [
    {
     "name": "stdout",
     "output_type": "stream",
     "text": [
      "Introduction to Computer Science\n",
      "Thermodynamics\n",
      "World History\n",
      "Ethics\n"
     ]
    }
   ],
   "source": [
    "#cursos que possuem horário de início pela manhã\n",
    "cursos_manha = root.cssselect('course schedule time:contains(\"AM\")')\n",
    "for curso in cursos_manha:\n",
    "    print(curso.getparent().getparent().find('title').text)"
   ]
  },
  {
   "cell_type": "markdown",
   "metadata": {},
   "source": [
    "# WebCrawling\n",
    "## Exercício 7: \n",
    "\n",
    "Examine um site de sua escolha na lista de sites fornecida em anexo e descubra o padrão de URL para paginação que ele aceita. Então, utilize-o para obter uma lista de links de notícias requisitando as 2 primeiras páginas e raspando os links de cada uma através de um único seletor de CSS aplicado via `BeautifulSoup`."
   ]
  },
  {
   "cell_type": "code",
   "execution_count": 227,
   "metadata": {},
   "outputs": [],
   "source": [
    "#%pip install beautifulsoup4\n",
    "from bs4 import BeautifulSoup"
   ]
  },
  {
   "cell_type": "code",
   "execution_count": 221,
   "metadata": {},
   "outputs": [],
   "source": [
    "dados = ''\n",
    "for i in range(1,3):\n",
    "    url = f'https://bico24horas.com.br/noticias/cidades/29?pagina={i}'\n",
    "    response = requests.get(url)\n",
    "    dados += response.text"
   ]
  },
  {
   "cell_type": "code",
   "execution_count": 245,
   "metadata": {},
   "outputs": [
    {
     "data": {
      "text/plain": [
       "['https://noticia/eleicoes-2024-palmas-esta-entre-os-103-municipios-brasileiros-aptos-a-realizar-o-2o-turno/39072',\n",
       " 'https://noticia/palmas-recebe-a-exposicao-historia-de-um-cajueiro-nesta-sexta-20-promovida-pela-brk/39057',\n",
       " 'https://noticia/nossa-arte-festival-em-palmas-celebra-a-inclusao-social-de-alunos-especiais-por-meio-da-cultura/39023',\n",
       " 'https://noticia/brk-apresenta-exposicao-imersiva-e-gratuita-a-historia-de-um-cajueiro/39019',\n",
       " 'https://noticia/empresa-de-irmao-de-secretaria-troca-1-lote-por-43-de-prefeitura-no-tocantins/39014',\n",
       " 'https://noticia/mes-do-cliente-brk-em-palmas-oferece-condicoes-especiais-para-negociacao-de-dividas/38990',\n",
       " 'https://noticia/janad-manifesta-preocupacao-com-queimadas-e-diz-que-cidade-nao-esta-preparada-para-uma-calamidade-climatica/38980',\n",
       " 'https://noticia/ete-lontra-da-brk-de-araguaina-recebe-premio-melhores-e-maiores-obras-2024/38961',\n",
       " 'https://noticia/brk-alerta-para-os-riscos-da-estiagem-prolongada-e-das-queimadas/38952',\n",
       " 'https://noticia/tre-to-informa-que-8-municipios-do-tocantins-tem-candidato-unico-para-prefeito/38904',\n",
       " 'https://noticia/brk-apoia-18a-edicao-do-festival-gastronomico-de-taquarucu/38909',\n",
       " 'https://noticia/festival-gastronomico-de-taquarucu-contara-com-subestacao-movel-de-energia/38896',\n",
       " 'https://noticia/amigos-do-rio-projeto-retira-mais-de-25-toneladas-de-lixo-de-rio-no-municipio-de-peixe/38891',\n",
       " 'https://noticia/palmas-janad-defende-ampliacao-do-ensino-integral-e-propoe-creches-com-horarios-flexiveis/38878',\n",
       " 'https://noticia/lojas-fisicas-da-brk-de-palmas-funcionam-em-novo-horario/38876',\n",
       " 'https://noticia/brk-investe-em-alternativas-sustentaveis-e-transforma-residuo-em-fertilizantes/38863',\n",
       " 'https://noticia/brk-promove-acoes-de-conscientizacao-sobre-meio-ambiente-e-combate-a-violencia-contra-a-mulher/38842',\n",
       " 'https://noticia/policia-civil-prende-dois-suspeitos-de-espancar-jovem-ate-a-morte-em-xambioa/38835',\n",
       " 'https://noticia/brk-mantem-lideranca-entre-empresas-mais-inovadoras-do-setor-privado-de-saneamento/38823',\n",
       " 'https://noticia/brk-e-finalista-do-premio-gri-infra-awards-com-projeto-inovador-de-limpeza-de-reservatorios/38814',\n",
       " 'https://noticia/estande-da-brk-recebe-mais-de-1-500-visitantes-durante-feira-tecnologica-em-paraiso/38790',\n",
       " 'https://noticia/inscricoes-para-curso-de-formacao-de-eletricistas-exclusivo-para-mulheres-seguem-ate-o-dia-30/38788',\n",
       " 'https://noticia/no-dia-do-feirante-janad-garante-criar-novas-feiras-tematicas-e-revitalizar-as-feiras-existentes/38782',\n",
       " 'https://noticia/atendimentos-do-nossa-energia-nos-cras-de-palmas-seguem-ate-esta-sexta-feira-dia-23/38750',\n",
       " 'https://noticia/moradora-de-porto-nacional-e-premiada-com-dois-anos-de-conta-de-luz-gratis/38740',\n",
       " 'https://noticia/brk-leva-atividades-de-educacao-ambiental-lazer-e-atendimento-movel-para-a-feneva/38729',\n",
       " 'https://noticia/brk-tem-novo-horario-de-atendimento-em-unidades-de-palmas/38722',\n",
       " 'https://noticia/com-serios-problemas-de-corrupcao-na-area-cinthia-esta-devendo-na-educacao-e-faz-ataques-infundados-ao-governador-diz-janad/38698',\n",
       " 'https://noticia/procon-encontra-variacao-de-ate-232-86-nos-precos-dos-produtos-da-cesta-basica-em-palmas/38675',\n",
       " 'https://noticia/energisa-abre-vagas-de-emprego-em-palmas-e-dianopolis-saiba-como-se-candidatar/38673',\n",
       " 'https://noticia/palmas-sera-uma-grande-referencia-nacional-em-saude-diz-janad-sobre-construcao-do-hospital-da-mulher-e-maternidade/38670',\n",
       " 'https://noticia/brk-enfatiza-a-importancia-dos-cuidados-com-a-saude-durante-o-periodo-seco/38646',\n",
       " 'https://noticia/troca-de-geladeiras-e-lampadas-aragominas-taipas-e-araguaina-recebem-o-projeto-nossa-energia/38638',\n",
       " 'https://noticia/janad-propoe-a-construcao-de-ponte-duplicada-entre-o-taquari-e-a-vila-agrotins/38636',\n",
       " 'https://noticia/brk-participa-do-dia-d-de-prevencao-conscientizacao-e-combate-as-queimadas/38634',\n",
       " 'https://noticia/rede-de-farmacias-abre-vagas-de-emprego-exclusivas-para-pessoas-com-deficiencia-em-palmas/38616',\n",
       " 'https://noticia/brk-apresenta-paineis-em-reuniao-tecnica-da-aesbe-em-araguaina/38619',\n",
       " 'https://noticia/palmas-brk-participa-da-1a-edicao-do-projeto-vovo-e-vovo-invadem-praia/38486',\n",
       " 'https://noticia/janad-pede-dignidade-para-as-familias-que-sofrem-com-a-crise-do-transporte-escolar-em-palmas/38428',\n",
       " 'https://noticia/facilidades-brk-oferece-diversidade-de-metodos-de-pagamento/38424',\n",
       " 'https://noticia/em-palmas-brk-realiza-lavagem-preventiva-em-mais-de-97-quilometros-de-redes-de-esgoto/38401',\n",
       " 'https://noticia/energisa-abre-vagas-para-eletricista-em-miracema-pedro-afonso-e-tocantinia/38348',\n",
       " 'https://noticia/brk-divulga-cronograma-de-obras-de-modernizacao-das-redes-de-distribuicao-de-agua-em-araguaina/38330',\n",
       " 'https://noticia/janad-diz-que-casa-do-autista-sera-na-regiao-sul-de-palmas-404-norte-sediara-jardim-sensorial/38320',\n",
       " 'https://noticia/janad-diz-que-prefeitura-de-palmas-perde-recursos-ao-ignorar-bancada-federal-ha-mais-de-10-anos/38307',\n",
       " 'https://noticia/tarifa-social-mais-de-95-mil-familias-tocantinenses-podem-usufruir-de-desconto-na-conta-de-luz/38284',\n",
       " 'https://noticia/com-jardim-sensorial-janad-quer-casa-do-autista-em-palmas-inspirada-em-camboriu/38281',\n",
       " 'https://noticia/brk-realiza-formaturas-de-alunas-do-projeto-reinventar-em-araguaina-gurupi-e-palmas/38279',\n",
       " 'https://noticia/janad-defende-horario-flexivel-e-novas-unidades-de-creches-em-palmas/38264',\n",
       " 'https://noticia/palmas-janad-propoe-construcao-de-praca-e-pista-de-caminhada-no-aureny-iv/38244',\n",
       " 'https://noticia/mpto-cobra-prefeitura-de-palmas-para-apresentar-solucoes-para-o-transporte-escolar-na-capital/38242',\n",
       " 'https://noticia/brk-participa-do-talk-show-embaixadores-de-governanca/38229',\n",
       " 'https://noticia/eleicoes-em-gurupi-eduardo-fortes-mobiliza-e-ouve-juventude-para-seu-plano-de-governo/38206',\n",
       " 'https://noticia/programa-da-brk-para-fornecedores-regionais-segue-a-todo-vapor/38197',\n",
       " 'https://noticia/xambioa-homem-e-procurado-pela-policia-por-estuprar-mulher-usando-de-violencia-e-ameaca/38162',\n",
       " 'https://noticia/janad-valcari-propoe-nome-da-merendeira-maria-batista-para-nova-escola-do-distrito-de-buritirana/38147',\n",
       " 'https://noticia/janad-valcari-propoe-viaduto-em-taquaralto-para-acabar-com-caos-na-rotatoria-da-passarela/38145',\n",
       " 'https://noticia/criancas-do-hospital-geral-de-palmas-conhecem-o-projeto-sos-ambiental/38138',\n",
       " 'https://noticia/drone-da-janad-pre-candidata-mostra-caos-e-propoe-construcao-de-rodoviaria-em-taquaralto/38126',\n",
       " 'https://noticia/brk-promove-no-tocantins-e-para-campanha-do-uso-consciente-da-agua-no-periodo-de-estiagem/38124']"
      ]
     },
     "execution_count": 245,
     "metadata": {},
     "output_type": "execute_result"
    }
   ],
   "source": [
    "soup = BeautifulSoup(dados, 'html.parser')\n",
    "conteudo = soup.select('#conteudo div.media-body a')\n",
    "\n",
    "lista_urls = []\n",
    "for link in conteudo:\n",
    "    lista_urls.append('https:/' + link.get('href'))\n",
    "\n",
    "lista_urls"
   ]
  },
  {
   "cell_type": "markdown",
   "metadata": {},
   "source": [
    "# WebScraping\n",
    "\n",
    "## Exercício 8:\n",
    "\n",
    "Faça um loop para os 3 primeiros links da lista obtida na questão anterior requisitando o HTML de cada página com a biblioteca que preferir (`urllib`, `requests`, etc.) e aplicando funções baseadas em `BeautifulSoup` para capturar e por fim salvar em um mesmo arquivo JSON, junto à URL de cada notícia e ao datetime do momento da requisição de cada página:\n",
    "\n",
    "* O objeto datetime (timezone-aware) da data e hora da publicação da notícia;\n",
    "* O título da notícia;\n",
    "* O corpo do texto da notícia;\n",
    "* O subtítulo da notícia (se houver);\n",
    "* O autor ou autores da notícia (se houver)."
   ]
  },
  {
   "cell_type": "code",
   "execution_count": 246,
   "metadata": {},
   "outputs": [
    {
     "ename": "ConnectionError",
     "evalue": "HTTPSConnectionPool(host='noticia', port=443): Max retries exceeded with url: /eleicoes-2024-palmas-esta-entre-os-103-municipios-brasileiros-aptos-a-realizar-o-2o-turno/39072 (Caused by NameResolutionError(\"<urllib3.connection.HTTPSConnection object at 0x75fccd9314c0>: Failed to resolve 'noticia' ([Errno -2] Name or service not known)\"))",
     "output_type": "error",
     "traceback": [
      "\u001b[0;31m---------------------------------------------------------------------------\u001b[0m",
      "\u001b[0;31mgaierror\u001b[0m                                  Traceback (most recent call last)",
      "File \u001b[0;32m~/.local/lib/python3.12/site-packages/urllib3/connection.py:199\u001b[0m, in \u001b[0;36mHTTPConnection._new_conn\u001b[0;34m(self)\u001b[0m\n\u001b[1;32m    198\u001b[0m \u001b[38;5;28;01mtry\u001b[39;00m:\n\u001b[0;32m--> 199\u001b[0m     sock \u001b[38;5;241m=\u001b[39m \u001b[43mconnection\u001b[49m\u001b[38;5;241;43m.\u001b[39;49m\u001b[43mcreate_connection\u001b[49m\u001b[43m(\u001b[49m\n\u001b[1;32m    200\u001b[0m \u001b[43m        \u001b[49m\u001b[43m(\u001b[49m\u001b[38;5;28;43mself\u001b[39;49m\u001b[38;5;241;43m.\u001b[39;49m\u001b[43m_dns_host\u001b[49m\u001b[43m,\u001b[49m\u001b[43m \u001b[49m\u001b[38;5;28;43mself\u001b[39;49m\u001b[38;5;241;43m.\u001b[39;49m\u001b[43mport\u001b[49m\u001b[43m)\u001b[49m\u001b[43m,\u001b[49m\n\u001b[1;32m    201\u001b[0m \u001b[43m        \u001b[49m\u001b[38;5;28;43mself\u001b[39;49m\u001b[38;5;241;43m.\u001b[39;49m\u001b[43mtimeout\u001b[49m\u001b[43m,\u001b[49m\n\u001b[1;32m    202\u001b[0m \u001b[43m        \u001b[49m\u001b[43msource_address\u001b[49m\u001b[38;5;241;43m=\u001b[39;49m\u001b[38;5;28;43mself\u001b[39;49m\u001b[38;5;241;43m.\u001b[39;49m\u001b[43msource_address\u001b[49m\u001b[43m,\u001b[49m\n\u001b[1;32m    203\u001b[0m \u001b[43m        \u001b[49m\u001b[43msocket_options\u001b[49m\u001b[38;5;241;43m=\u001b[39;49m\u001b[38;5;28;43mself\u001b[39;49m\u001b[38;5;241;43m.\u001b[39;49m\u001b[43msocket_options\u001b[49m\u001b[43m,\u001b[49m\n\u001b[1;32m    204\u001b[0m \u001b[43m    \u001b[49m\u001b[43m)\u001b[49m\n\u001b[1;32m    205\u001b[0m \u001b[38;5;28;01mexcept\u001b[39;00m socket\u001b[38;5;241m.\u001b[39mgaierror \u001b[38;5;28;01mas\u001b[39;00m e:\n",
      "File \u001b[0;32m~/.local/lib/python3.12/site-packages/urllib3/util/connection.py:60\u001b[0m, in \u001b[0;36mcreate_connection\u001b[0;34m(address, timeout, source_address, socket_options)\u001b[0m\n\u001b[1;32m     58\u001b[0m     \u001b[38;5;28;01mraise\u001b[39;00m LocationParseError(\u001b[38;5;124mf\u001b[39m\u001b[38;5;124m\"\u001b[39m\u001b[38;5;124m'\u001b[39m\u001b[38;5;132;01m{\u001b[39;00mhost\u001b[38;5;132;01m}\u001b[39;00m\u001b[38;5;124m'\u001b[39m\u001b[38;5;124m, label empty or too long\u001b[39m\u001b[38;5;124m\"\u001b[39m) \u001b[38;5;28;01mfrom\u001b[39;00m \u001b[38;5;28;01mNone\u001b[39;00m\n\u001b[0;32m---> 60\u001b[0m \u001b[38;5;28;01mfor\u001b[39;00m res \u001b[38;5;129;01min\u001b[39;00m \u001b[43msocket\u001b[49m\u001b[38;5;241;43m.\u001b[39;49m\u001b[43mgetaddrinfo\u001b[49m\u001b[43m(\u001b[49m\u001b[43mhost\u001b[49m\u001b[43m,\u001b[49m\u001b[43m \u001b[49m\u001b[43mport\u001b[49m\u001b[43m,\u001b[49m\u001b[43m \u001b[49m\u001b[43mfamily\u001b[49m\u001b[43m,\u001b[49m\u001b[43m \u001b[49m\u001b[43msocket\u001b[49m\u001b[38;5;241;43m.\u001b[39;49m\u001b[43mSOCK_STREAM\u001b[49m\u001b[43m)\u001b[49m:\n\u001b[1;32m     61\u001b[0m     af, socktype, proto, canonname, sa \u001b[38;5;241m=\u001b[39m res\n",
      "File \u001b[0;32m~/.python/current/lib/python3.12/socket.py:963\u001b[0m, in \u001b[0;36mgetaddrinfo\u001b[0;34m(host, port, family, type, proto, flags)\u001b[0m\n\u001b[1;32m    962\u001b[0m addrlist \u001b[38;5;241m=\u001b[39m []\n\u001b[0;32m--> 963\u001b[0m \u001b[38;5;28;01mfor\u001b[39;00m res \u001b[38;5;129;01min\u001b[39;00m \u001b[43m_socket\u001b[49m\u001b[38;5;241;43m.\u001b[39;49m\u001b[43mgetaddrinfo\u001b[49m\u001b[43m(\u001b[49m\u001b[43mhost\u001b[49m\u001b[43m,\u001b[49m\u001b[43m \u001b[49m\u001b[43mport\u001b[49m\u001b[43m,\u001b[49m\u001b[43m \u001b[49m\u001b[43mfamily\u001b[49m\u001b[43m,\u001b[49m\u001b[43m \u001b[49m\u001b[38;5;28;43mtype\u001b[39;49m\u001b[43m,\u001b[49m\u001b[43m \u001b[49m\u001b[43mproto\u001b[49m\u001b[43m,\u001b[49m\u001b[43m \u001b[49m\u001b[43mflags\u001b[49m\u001b[43m)\u001b[49m:\n\u001b[1;32m    964\u001b[0m     af, socktype, proto, canonname, sa \u001b[38;5;241m=\u001b[39m res\n",
      "\u001b[0;31mgaierror\u001b[0m: [Errno -2] Name or service not known",
      "\nThe above exception was the direct cause of the following exception:\n",
      "\u001b[0;31mNameResolutionError\u001b[0m                       Traceback (most recent call last)",
      "File \u001b[0;32m~/.local/lib/python3.12/site-packages/urllib3/connectionpool.py:789\u001b[0m, in \u001b[0;36mHTTPConnectionPool.urlopen\u001b[0;34m(self, method, url, body, headers, retries, redirect, assert_same_host, timeout, pool_timeout, release_conn, chunked, body_pos, preload_content, decode_content, **response_kw)\u001b[0m\n\u001b[1;32m    788\u001b[0m \u001b[38;5;66;03m# Make the request on the HTTPConnection object\u001b[39;00m\n\u001b[0;32m--> 789\u001b[0m response \u001b[38;5;241m=\u001b[39m \u001b[38;5;28;43mself\u001b[39;49m\u001b[38;5;241;43m.\u001b[39;49m\u001b[43m_make_request\u001b[49m\u001b[43m(\u001b[49m\n\u001b[1;32m    790\u001b[0m \u001b[43m    \u001b[49m\u001b[43mconn\u001b[49m\u001b[43m,\u001b[49m\n\u001b[1;32m    791\u001b[0m \u001b[43m    \u001b[49m\u001b[43mmethod\u001b[49m\u001b[43m,\u001b[49m\n\u001b[1;32m    792\u001b[0m \u001b[43m    \u001b[49m\u001b[43murl\u001b[49m\u001b[43m,\u001b[49m\n\u001b[1;32m    793\u001b[0m \u001b[43m    \u001b[49m\u001b[43mtimeout\u001b[49m\u001b[38;5;241;43m=\u001b[39;49m\u001b[43mtimeout_obj\u001b[49m\u001b[43m,\u001b[49m\n\u001b[1;32m    794\u001b[0m \u001b[43m    \u001b[49m\u001b[43mbody\u001b[49m\u001b[38;5;241;43m=\u001b[39;49m\u001b[43mbody\u001b[49m\u001b[43m,\u001b[49m\n\u001b[1;32m    795\u001b[0m \u001b[43m    \u001b[49m\u001b[43mheaders\u001b[49m\u001b[38;5;241;43m=\u001b[39;49m\u001b[43mheaders\u001b[49m\u001b[43m,\u001b[49m\n\u001b[1;32m    796\u001b[0m \u001b[43m    \u001b[49m\u001b[43mchunked\u001b[49m\u001b[38;5;241;43m=\u001b[39;49m\u001b[43mchunked\u001b[49m\u001b[43m,\u001b[49m\n\u001b[1;32m    797\u001b[0m \u001b[43m    \u001b[49m\u001b[43mretries\u001b[49m\u001b[38;5;241;43m=\u001b[39;49m\u001b[43mretries\u001b[49m\u001b[43m,\u001b[49m\n\u001b[1;32m    798\u001b[0m \u001b[43m    \u001b[49m\u001b[43mresponse_conn\u001b[49m\u001b[38;5;241;43m=\u001b[39;49m\u001b[43mresponse_conn\u001b[49m\u001b[43m,\u001b[49m\n\u001b[1;32m    799\u001b[0m \u001b[43m    \u001b[49m\u001b[43mpreload_content\u001b[49m\u001b[38;5;241;43m=\u001b[39;49m\u001b[43mpreload_content\u001b[49m\u001b[43m,\u001b[49m\n\u001b[1;32m    800\u001b[0m \u001b[43m    \u001b[49m\u001b[43mdecode_content\u001b[49m\u001b[38;5;241;43m=\u001b[39;49m\u001b[43mdecode_content\u001b[49m\u001b[43m,\u001b[49m\n\u001b[1;32m    801\u001b[0m \u001b[43m    \u001b[49m\u001b[38;5;241;43m*\u001b[39;49m\u001b[38;5;241;43m*\u001b[39;49m\u001b[43mresponse_kw\u001b[49m\u001b[43m,\u001b[49m\n\u001b[1;32m    802\u001b[0m \u001b[43m\u001b[49m\u001b[43m)\u001b[49m\n\u001b[1;32m    804\u001b[0m \u001b[38;5;66;03m# Everything went great!\u001b[39;00m\n",
      "File \u001b[0;32m~/.local/lib/python3.12/site-packages/urllib3/connectionpool.py:490\u001b[0m, in \u001b[0;36mHTTPConnectionPool._make_request\u001b[0;34m(self, conn, method, url, body, headers, retries, timeout, chunked, response_conn, preload_content, decode_content, enforce_content_length)\u001b[0m\n\u001b[1;32m    489\u001b[0m         new_e \u001b[38;5;241m=\u001b[39m _wrap_proxy_error(new_e, conn\u001b[38;5;241m.\u001b[39mproxy\u001b[38;5;241m.\u001b[39mscheme)\n\u001b[0;32m--> 490\u001b[0m     \u001b[38;5;28;01mraise\u001b[39;00m new_e\n\u001b[1;32m    492\u001b[0m \u001b[38;5;66;03m# conn.request() calls http.client.*.request, not the method in\u001b[39;00m\n\u001b[1;32m    493\u001b[0m \u001b[38;5;66;03m# urllib3.request. It also calls makefile (recv) on the socket.\u001b[39;00m\n",
      "File \u001b[0;32m~/.local/lib/python3.12/site-packages/urllib3/connectionpool.py:466\u001b[0m, in \u001b[0;36mHTTPConnectionPool._make_request\u001b[0;34m(self, conn, method, url, body, headers, retries, timeout, chunked, response_conn, preload_content, decode_content, enforce_content_length)\u001b[0m\n\u001b[1;32m    465\u001b[0m \u001b[38;5;28;01mtry\u001b[39;00m:\n\u001b[0;32m--> 466\u001b[0m     \u001b[38;5;28;43mself\u001b[39;49m\u001b[38;5;241;43m.\u001b[39;49m\u001b[43m_validate_conn\u001b[49m\u001b[43m(\u001b[49m\u001b[43mconn\u001b[49m\u001b[43m)\u001b[49m\n\u001b[1;32m    467\u001b[0m \u001b[38;5;28;01mexcept\u001b[39;00m (SocketTimeout, BaseSSLError) \u001b[38;5;28;01mas\u001b[39;00m e:\n",
      "File \u001b[0;32m~/.local/lib/python3.12/site-packages/urllib3/connectionpool.py:1095\u001b[0m, in \u001b[0;36mHTTPSConnectionPool._validate_conn\u001b[0;34m(self, conn)\u001b[0m\n\u001b[1;32m   1094\u001b[0m \u001b[38;5;28;01mif\u001b[39;00m conn\u001b[38;5;241m.\u001b[39mis_closed:\n\u001b[0;32m-> 1095\u001b[0m     \u001b[43mconn\u001b[49m\u001b[38;5;241;43m.\u001b[39;49m\u001b[43mconnect\u001b[49m\u001b[43m(\u001b[49m\u001b[43m)\u001b[49m\n\u001b[1;32m   1097\u001b[0m \u001b[38;5;66;03m# TODO revise this, see https://github.com/urllib3/urllib3/issues/2791\u001b[39;00m\n",
      "File \u001b[0;32m~/.local/lib/python3.12/site-packages/urllib3/connection.py:693\u001b[0m, in \u001b[0;36mHTTPSConnection.connect\u001b[0;34m(self)\u001b[0m\n\u001b[1;32m    692\u001b[0m sock: socket\u001b[38;5;241m.\u001b[39msocket \u001b[38;5;241m|\u001b[39m ssl\u001b[38;5;241m.\u001b[39mSSLSocket\n\u001b[0;32m--> 693\u001b[0m \u001b[38;5;28mself\u001b[39m\u001b[38;5;241m.\u001b[39msock \u001b[38;5;241m=\u001b[39m sock \u001b[38;5;241m=\u001b[39m \u001b[38;5;28;43mself\u001b[39;49m\u001b[38;5;241;43m.\u001b[39;49m\u001b[43m_new_conn\u001b[49m\u001b[43m(\u001b[49m\u001b[43m)\u001b[49m\n\u001b[1;32m    694\u001b[0m server_hostname: \u001b[38;5;28mstr\u001b[39m \u001b[38;5;241m=\u001b[39m \u001b[38;5;28mself\u001b[39m\u001b[38;5;241m.\u001b[39mhost\n",
      "File \u001b[0;32m~/.local/lib/python3.12/site-packages/urllib3/connection.py:206\u001b[0m, in \u001b[0;36mHTTPConnection._new_conn\u001b[0;34m(self)\u001b[0m\n\u001b[1;32m    205\u001b[0m \u001b[38;5;28;01mexcept\u001b[39;00m socket\u001b[38;5;241m.\u001b[39mgaierror \u001b[38;5;28;01mas\u001b[39;00m e:\n\u001b[0;32m--> 206\u001b[0m     \u001b[38;5;28;01mraise\u001b[39;00m NameResolutionError(\u001b[38;5;28mself\u001b[39m\u001b[38;5;241m.\u001b[39mhost, \u001b[38;5;28mself\u001b[39m, e) \u001b[38;5;28;01mfrom\u001b[39;00m \u001b[38;5;21;01me\u001b[39;00m\n\u001b[1;32m    207\u001b[0m \u001b[38;5;28;01mexcept\u001b[39;00m SocketTimeout \u001b[38;5;28;01mas\u001b[39;00m e:\n",
      "\u001b[0;31mNameResolutionError\u001b[0m: <urllib3.connection.HTTPSConnection object at 0x75fccd9314c0>: Failed to resolve 'noticia' ([Errno -2] Name or service not known)",
      "\nThe above exception was the direct cause of the following exception:\n",
      "\u001b[0;31mMaxRetryError\u001b[0m                             Traceback (most recent call last)",
      "File \u001b[0;32m~/.local/lib/python3.12/site-packages/requests/adapters.py:667\u001b[0m, in \u001b[0;36mHTTPAdapter.send\u001b[0;34m(self, request, stream, timeout, verify, cert, proxies)\u001b[0m\n\u001b[1;32m    666\u001b[0m \u001b[38;5;28;01mtry\u001b[39;00m:\n\u001b[0;32m--> 667\u001b[0m     resp \u001b[38;5;241m=\u001b[39m \u001b[43mconn\u001b[49m\u001b[38;5;241;43m.\u001b[39;49m\u001b[43murlopen\u001b[49m\u001b[43m(\u001b[49m\n\u001b[1;32m    668\u001b[0m \u001b[43m        \u001b[49m\u001b[43mmethod\u001b[49m\u001b[38;5;241;43m=\u001b[39;49m\u001b[43mrequest\u001b[49m\u001b[38;5;241;43m.\u001b[39;49m\u001b[43mmethod\u001b[49m\u001b[43m,\u001b[49m\n\u001b[1;32m    669\u001b[0m \u001b[43m        \u001b[49m\u001b[43murl\u001b[49m\u001b[38;5;241;43m=\u001b[39;49m\u001b[43murl\u001b[49m\u001b[43m,\u001b[49m\n\u001b[1;32m    670\u001b[0m \u001b[43m        \u001b[49m\u001b[43mbody\u001b[49m\u001b[38;5;241;43m=\u001b[39;49m\u001b[43mrequest\u001b[49m\u001b[38;5;241;43m.\u001b[39;49m\u001b[43mbody\u001b[49m\u001b[43m,\u001b[49m\n\u001b[1;32m    671\u001b[0m \u001b[43m        \u001b[49m\u001b[43mheaders\u001b[49m\u001b[38;5;241;43m=\u001b[39;49m\u001b[43mrequest\u001b[49m\u001b[38;5;241;43m.\u001b[39;49m\u001b[43mheaders\u001b[49m\u001b[43m,\u001b[49m\n\u001b[1;32m    672\u001b[0m \u001b[43m        \u001b[49m\u001b[43mredirect\u001b[49m\u001b[38;5;241;43m=\u001b[39;49m\u001b[38;5;28;43;01mFalse\u001b[39;49;00m\u001b[43m,\u001b[49m\n\u001b[1;32m    673\u001b[0m \u001b[43m        \u001b[49m\u001b[43massert_same_host\u001b[49m\u001b[38;5;241;43m=\u001b[39;49m\u001b[38;5;28;43;01mFalse\u001b[39;49;00m\u001b[43m,\u001b[49m\n\u001b[1;32m    674\u001b[0m \u001b[43m        \u001b[49m\u001b[43mpreload_content\u001b[49m\u001b[38;5;241;43m=\u001b[39;49m\u001b[38;5;28;43;01mFalse\u001b[39;49;00m\u001b[43m,\u001b[49m\n\u001b[1;32m    675\u001b[0m \u001b[43m        \u001b[49m\u001b[43mdecode_content\u001b[49m\u001b[38;5;241;43m=\u001b[39;49m\u001b[38;5;28;43;01mFalse\u001b[39;49;00m\u001b[43m,\u001b[49m\n\u001b[1;32m    676\u001b[0m \u001b[43m        \u001b[49m\u001b[43mretries\u001b[49m\u001b[38;5;241;43m=\u001b[39;49m\u001b[38;5;28;43mself\u001b[39;49m\u001b[38;5;241;43m.\u001b[39;49m\u001b[43mmax_retries\u001b[49m\u001b[43m,\u001b[49m\n\u001b[1;32m    677\u001b[0m \u001b[43m        \u001b[49m\u001b[43mtimeout\u001b[49m\u001b[38;5;241;43m=\u001b[39;49m\u001b[43mtimeout\u001b[49m\u001b[43m,\u001b[49m\n\u001b[1;32m    678\u001b[0m \u001b[43m        \u001b[49m\u001b[43mchunked\u001b[49m\u001b[38;5;241;43m=\u001b[39;49m\u001b[43mchunked\u001b[49m\u001b[43m,\u001b[49m\n\u001b[1;32m    679\u001b[0m \u001b[43m    \u001b[49m\u001b[43m)\u001b[49m\n\u001b[1;32m    681\u001b[0m \u001b[38;5;28;01mexcept\u001b[39;00m (ProtocolError, \u001b[38;5;167;01mOSError\u001b[39;00m) \u001b[38;5;28;01mas\u001b[39;00m err:\n",
      "File \u001b[0;32m~/.local/lib/python3.12/site-packages/urllib3/connectionpool.py:843\u001b[0m, in \u001b[0;36mHTTPConnectionPool.urlopen\u001b[0;34m(self, method, url, body, headers, retries, redirect, assert_same_host, timeout, pool_timeout, release_conn, chunked, body_pos, preload_content, decode_content, **response_kw)\u001b[0m\n\u001b[1;32m    841\u001b[0m     new_e \u001b[38;5;241m=\u001b[39m ProtocolError(\u001b[38;5;124m\"\u001b[39m\u001b[38;5;124mConnection aborted.\u001b[39m\u001b[38;5;124m\"\u001b[39m, new_e)\n\u001b[0;32m--> 843\u001b[0m retries \u001b[38;5;241m=\u001b[39m \u001b[43mretries\u001b[49m\u001b[38;5;241;43m.\u001b[39;49m\u001b[43mincrement\u001b[49m\u001b[43m(\u001b[49m\n\u001b[1;32m    844\u001b[0m \u001b[43m    \u001b[49m\u001b[43mmethod\u001b[49m\u001b[43m,\u001b[49m\u001b[43m \u001b[49m\u001b[43murl\u001b[49m\u001b[43m,\u001b[49m\u001b[43m \u001b[49m\u001b[43merror\u001b[49m\u001b[38;5;241;43m=\u001b[39;49m\u001b[43mnew_e\u001b[49m\u001b[43m,\u001b[49m\u001b[43m \u001b[49m\u001b[43m_pool\u001b[49m\u001b[38;5;241;43m=\u001b[39;49m\u001b[38;5;28;43mself\u001b[39;49m\u001b[43m,\u001b[49m\u001b[43m \u001b[49m\u001b[43m_stacktrace\u001b[49m\u001b[38;5;241;43m=\u001b[39;49m\u001b[43msys\u001b[49m\u001b[38;5;241;43m.\u001b[39;49m\u001b[43mexc_info\u001b[49m\u001b[43m(\u001b[49m\u001b[43m)\u001b[49m\u001b[43m[\u001b[49m\u001b[38;5;241;43m2\u001b[39;49m\u001b[43m]\u001b[49m\n\u001b[1;32m    845\u001b[0m \u001b[43m\u001b[49m\u001b[43m)\u001b[49m\n\u001b[1;32m    846\u001b[0m retries\u001b[38;5;241m.\u001b[39msleep()\n",
      "File \u001b[0;32m~/.local/lib/python3.12/site-packages/urllib3/util/retry.py:519\u001b[0m, in \u001b[0;36mRetry.increment\u001b[0;34m(self, method, url, response, error, _pool, _stacktrace)\u001b[0m\n\u001b[1;32m    518\u001b[0m     reason \u001b[38;5;241m=\u001b[39m error \u001b[38;5;129;01mor\u001b[39;00m ResponseError(cause)\n\u001b[0;32m--> 519\u001b[0m     \u001b[38;5;28;01mraise\u001b[39;00m MaxRetryError(_pool, url, reason) \u001b[38;5;28;01mfrom\u001b[39;00m \u001b[38;5;21;01mreason\u001b[39;00m  \u001b[38;5;66;03m# type: ignore[arg-type]\u001b[39;00m\n\u001b[1;32m    521\u001b[0m log\u001b[38;5;241m.\u001b[39mdebug(\u001b[38;5;124m\"\u001b[39m\u001b[38;5;124mIncremented Retry for (url=\u001b[39m\u001b[38;5;124m'\u001b[39m\u001b[38;5;132;01m%s\u001b[39;00m\u001b[38;5;124m'\u001b[39m\u001b[38;5;124m): \u001b[39m\u001b[38;5;132;01m%r\u001b[39;00m\u001b[38;5;124m\"\u001b[39m, url, new_retry)\n",
      "\u001b[0;31mMaxRetryError\u001b[0m: HTTPSConnectionPool(host='noticia', port=443): Max retries exceeded with url: /eleicoes-2024-palmas-esta-entre-os-103-municipios-brasileiros-aptos-a-realizar-o-2o-turno/39072 (Caused by NameResolutionError(\"<urllib3.connection.HTTPSConnection object at 0x75fccd9314c0>: Failed to resolve 'noticia' ([Errno -2] Name or service not known)\"))",
      "\nDuring handling of the above exception, another exception occurred:\n",
      "\u001b[0;31mConnectionError\u001b[0m                           Traceback (most recent call last)",
      "Cell \u001b[0;32mIn[246], line 4\u001b[0m\n\u001b[1;32m      2\u001b[0m \u001b[38;5;28;01mfor\u001b[39;00m i \u001b[38;5;129;01min\u001b[39;00m \u001b[38;5;28mrange\u001b[39m(\u001b[38;5;241m0\u001b[39m,\u001b[38;5;241m3\u001b[39m):\n\u001b[1;32m      3\u001b[0m     url \u001b[38;5;241m=\u001b[39m lista_urls[i]\n\u001b[0;32m----> 4\u001b[0m     response \u001b[38;5;241m=\u001b[39m \u001b[43mrequests\u001b[49m\u001b[38;5;241;43m.\u001b[39;49m\u001b[43mget\u001b[49m\u001b[43m(\u001b[49m\u001b[43murl\u001b[49m\u001b[43m)\u001b[49m\n\u001b[1;32m      5\u001b[0m     dados_exerc8 \u001b[38;5;241m+\u001b[39m\u001b[38;5;241m=\u001b[39m response\u001b[38;5;241m.\u001b[39mtext\n",
      "File \u001b[0;32m~/.local/lib/python3.12/site-packages/requests/api.py:73\u001b[0m, in \u001b[0;36mget\u001b[0;34m(url, params, **kwargs)\u001b[0m\n\u001b[1;32m     62\u001b[0m \u001b[38;5;28;01mdef\u001b[39;00m \u001b[38;5;21mget\u001b[39m(url, params\u001b[38;5;241m=\u001b[39m\u001b[38;5;28;01mNone\u001b[39;00m, \u001b[38;5;241m*\u001b[39m\u001b[38;5;241m*\u001b[39mkwargs):\n\u001b[1;32m     63\u001b[0m \u001b[38;5;250m    \u001b[39m\u001b[38;5;124mr\u001b[39m\u001b[38;5;124;03m\"\"\"Sends a GET request.\u001b[39;00m\n\u001b[1;32m     64\u001b[0m \n\u001b[1;32m     65\u001b[0m \u001b[38;5;124;03m    :param url: URL for the new :class:`Request` object.\u001b[39;00m\n\u001b[0;32m   (...)\u001b[0m\n\u001b[1;32m     70\u001b[0m \u001b[38;5;124;03m    :rtype: requests.Response\u001b[39;00m\n\u001b[1;32m     71\u001b[0m \u001b[38;5;124;03m    \"\"\"\u001b[39;00m\n\u001b[0;32m---> 73\u001b[0m     \u001b[38;5;28;01mreturn\u001b[39;00m \u001b[43mrequest\u001b[49m\u001b[43m(\u001b[49m\u001b[38;5;124;43m\"\u001b[39;49m\u001b[38;5;124;43mget\u001b[39;49m\u001b[38;5;124;43m\"\u001b[39;49m\u001b[43m,\u001b[49m\u001b[43m \u001b[49m\u001b[43murl\u001b[49m\u001b[43m,\u001b[49m\u001b[43m \u001b[49m\u001b[43mparams\u001b[49m\u001b[38;5;241;43m=\u001b[39;49m\u001b[43mparams\u001b[49m\u001b[43m,\u001b[49m\u001b[43m \u001b[49m\u001b[38;5;241;43m*\u001b[39;49m\u001b[38;5;241;43m*\u001b[39;49m\u001b[43mkwargs\u001b[49m\u001b[43m)\u001b[49m\n",
      "File \u001b[0;32m~/.local/lib/python3.12/site-packages/requests/api.py:59\u001b[0m, in \u001b[0;36mrequest\u001b[0;34m(method, url, **kwargs)\u001b[0m\n\u001b[1;32m     55\u001b[0m \u001b[38;5;66;03m# By using the 'with' statement we are sure the session is closed, thus we\u001b[39;00m\n\u001b[1;32m     56\u001b[0m \u001b[38;5;66;03m# avoid leaving sockets open which can trigger a ResourceWarning in some\u001b[39;00m\n\u001b[1;32m     57\u001b[0m \u001b[38;5;66;03m# cases, and look like a memory leak in others.\u001b[39;00m\n\u001b[1;32m     58\u001b[0m \u001b[38;5;28;01mwith\u001b[39;00m sessions\u001b[38;5;241m.\u001b[39mSession() \u001b[38;5;28;01mas\u001b[39;00m session:\n\u001b[0;32m---> 59\u001b[0m     \u001b[38;5;28;01mreturn\u001b[39;00m \u001b[43msession\u001b[49m\u001b[38;5;241;43m.\u001b[39;49m\u001b[43mrequest\u001b[49m\u001b[43m(\u001b[49m\u001b[43mmethod\u001b[49m\u001b[38;5;241;43m=\u001b[39;49m\u001b[43mmethod\u001b[49m\u001b[43m,\u001b[49m\u001b[43m \u001b[49m\u001b[43murl\u001b[49m\u001b[38;5;241;43m=\u001b[39;49m\u001b[43murl\u001b[49m\u001b[43m,\u001b[49m\u001b[43m \u001b[49m\u001b[38;5;241;43m*\u001b[39;49m\u001b[38;5;241;43m*\u001b[39;49m\u001b[43mkwargs\u001b[49m\u001b[43m)\u001b[49m\n",
      "File \u001b[0;32m~/.local/lib/python3.12/site-packages/requests/sessions.py:589\u001b[0m, in \u001b[0;36mSession.request\u001b[0;34m(self, method, url, params, data, headers, cookies, files, auth, timeout, allow_redirects, proxies, hooks, stream, verify, cert, json)\u001b[0m\n\u001b[1;32m    584\u001b[0m send_kwargs \u001b[38;5;241m=\u001b[39m {\n\u001b[1;32m    585\u001b[0m     \u001b[38;5;124m\"\u001b[39m\u001b[38;5;124mtimeout\u001b[39m\u001b[38;5;124m\"\u001b[39m: timeout,\n\u001b[1;32m    586\u001b[0m     \u001b[38;5;124m\"\u001b[39m\u001b[38;5;124mallow_redirects\u001b[39m\u001b[38;5;124m\"\u001b[39m: allow_redirects,\n\u001b[1;32m    587\u001b[0m }\n\u001b[1;32m    588\u001b[0m send_kwargs\u001b[38;5;241m.\u001b[39mupdate(settings)\n\u001b[0;32m--> 589\u001b[0m resp \u001b[38;5;241m=\u001b[39m \u001b[38;5;28;43mself\u001b[39;49m\u001b[38;5;241;43m.\u001b[39;49m\u001b[43msend\u001b[49m\u001b[43m(\u001b[49m\u001b[43mprep\u001b[49m\u001b[43m,\u001b[49m\u001b[43m \u001b[49m\u001b[38;5;241;43m*\u001b[39;49m\u001b[38;5;241;43m*\u001b[39;49m\u001b[43msend_kwargs\u001b[49m\u001b[43m)\u001b[49m\n\u001b[1;32m    591\u001b[0m \u001b[38;5;28;01mreturn\u001b[39;00m resp\n",
      "File \u001b[0;32m~/.local/lib/python3.12/site-packages/requests/sessions.py:703\u001b[0m, in \u001b[0;36mSession.send\u001b[0;34m(self, request, **kwargs)\u001b[0m\n\u001b[1;32m    700\u001b[0m start \u001b[38;5;241m=\u001b[39m preferred_clock()\n\u001b[1;32m    702\u001b[0m \u001b[38;5;66;03m# Send the request\u001b[39;00m\n\u001b[0;32m--> 703\u001b[0m r \u001b[38;5;241m=\u001b[39m \u001b[43madapter\u001b[49m\u001b[38;5;241;43m.\u001b[39;49m\u001b[43msend\u001b[49m\u001b[43m(\u001b[49m\u001b[43mrequest\u001b[49m\u001b[43m,\u001b[49m\u001b[43m \u001b[49m\u001b[38;5;241;43m*\u001b[39;49m\u001b[38;5;241;43m*\u001b[39;49m\u001b[43mkwargs\u001b[49m\u001b[43m)\u001b[49m\n\u001b[1;32m    705\u001b[0m \u001b[38;5;66;03m# Total elapsed time of the request (approximately)\u001b[39;00m\n\u001b[1;32m    706\u001b[0m elapsed \u001b[38;5;241m=\u001b[39m preferred_clock() \u001b[38;5;241m-\u001b[39m start\n",
      "File \u001b[0;32m~/.local/lib/python3.12/site-packages/requests/adapters.py:700\u001b[0m, in \u001b[0;36mHTTPAdapter.send\u001b[0;34m(self, request, stream, timeout, verify, cert, proxies)\u001b[0m\n\u001b[1;32m    696\u001b[0m     \u001b[38;5;28;01mif\u001b[39;00m \u001b[38;5;28misinstance\u001b[39m(e\u001b[38;5;241m.\u001b[39mreason, _SSLError):\n\u001b[1;32m    697\u001b[0m         \u001b[38;5;66;03m# This branch is for urllib3 v1.22 and later.\u001b[39;00m\n\u001b[1;32m    698\u001b[0m         \u001b[38;5;28;01mraise\u001b[39;00m SSLError(e, request\u001b[38;5;241m=\u001b[39mrequest)\n\u001b[0;32m--> 700\u001b[0m     \u001b[38;5;28;01mraise\u001b[39;00m \u001b[38;5;167;01mConnectionError\u001b[39;00m(e, request\u001b[38;5;241m=\u001b[39mrequest)\n\u001b[1;32m    702\u001b[0m \u001b[38;5;28;01mexcept\u001b[39;00m ClosedPoolError \u001b[38;5;28;01mas\u001b[39;00m e:\n\u001b[1;32m    703\u001b[0m     \u001b[38;5;28;01mraise\u001b[39;00m \u001b[38;5;167;01mConnectionError\u001b[39;00m(e, request\u001b[38;5;241m=\u001b[39mrequest)\n",
      "\u001b[0;31mConnectionError\u001b[0m: HTTPSConnectionPool(host='noticia', port=443): Max retries exceeded with url: /eleicoes-2024-palmas-esta-entre-os-103-municipios-brasileiros-aptos-a-realizar-o-2o-turno/39072 (Caused by NameResolutionError(\"<urllib3.connection.HTTPSConnection object at 0x75fccd9314c0>: Failed to resolve 'noticia' ([Errno -2] Name or service not known)\"))"
     ]
    }
   ],
   "source": [
    "dados_exerc8 =''\n",
    "for i in range(0,3):\n",
    "    url = lista_urls[i]\n",
    "    response = requests.get(url)\n",
    "    dados_exerc8 += response.text"
   ]
  },
  {
   "cell_type": "markdown",
   "metadata": {},
   "source": [
    "# Scrapy\n",
    "\n",
    "## Exercício 9:\n",
    "\n",
    "Escolha um dos sites da lista fornecida (que não tenha sido escolhido nas anteriores) para montar um projeto no Scrapy que abarque tanto o Crawling quanto o Scraping, a fim de rodá-lo tal como na questão anterior."
   ]
  },
  {
   "cell_type": "code",
   "execution_count": null,
   "metadata": {},
   "outputs": [],
   "source": []
  },
  {
   "cell_type": "markdown",
   "metadata": {},
   "source": [
    "# Selenium\n",
    "\n",
    "## Exercício 10:\n",
    "Extraia uma lista de empregos do site https://br.indeed.com. Extraia os títulos dos empregos da primeira página de resultados ao pesquisar por \"Data Scientist\" na área da capital de seu estado. O site usa JavaScript para carregar as listas dinamicamente, o que significa que você não pode recuperar esses dados simplesmente usando solicitações ou BeautifulSoup. Escreva um script em Python usando Selenium para extrair os títulos dos empregos desta página junto a outras informações que você considere relevante."
   ]
  },
  {
   "cell_type": "code",
   "execution_count": null,
   "metadata": {},
   "outputs": [],
   "source": []
  },
  {
   "cell_type": "markdown",
   "metadata": {},
   "source": []
  }
 ],
 "metadata": {
  "kernelspec": {
   "display_name": "Python 3",
   "language": "python",
   "name": "python3"
  },
  "language_info": {
   "codemirror_mode": {
    "name": "ipython",
    "version": 3
   },
   "file_extension": ".py",
   "mimetype": "text/x-python",
   "name": "python",
   "nbconvert_exporter": "python",
   "pygments_lexer": "ipython3",
   "version": "3.12.1"
  }
 },
 "nbformat": 4,
 "nbformat_minor": 2
}
